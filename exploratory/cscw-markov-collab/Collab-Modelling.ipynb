{
 "cells": [
  {
   "cell_type": "markdown",
   "metadata": {},
   "source": [
    "# Collaborative Modelling\n",
    "Does looking at the collaborative condition change the likelihood of interaction with widgets? (When compared to a single searcher condition like before)"
   ]
  }
 ],
 "metadata": {
  "kernelspec": {
   "display_name": "Python 3.7.7 64-bit ('modelling': venv)",
   "language": "python",
   "name": "python37764bitmodellingvenv22c162a0bf9648859211ca1b5f26f18e"
  },
  "language_info": {
   "codemirror_mode": {
    "name": "ipython",
    "version": 3
   },
   "file_extension": ".py",
   "mimetype": "text/x-python",
   "name": "python",
   "nbconvert_exporter": "python",
   "pygments_lexer": "ipython3",
   "version": "3.7.7"
  }
 },
 "nbformat": 4,
 "nbformat_minor": 4
}
