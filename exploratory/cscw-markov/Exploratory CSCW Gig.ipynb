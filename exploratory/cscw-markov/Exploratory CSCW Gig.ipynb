{
 "cells": [
  {
   "cell_type": "markdown",
   "metadata": {},
   "source": [
    "# Exploratory CSCW Gig\n",
    "Having a look at some of the data from the independent condition in the CSCW paper.\n",
    "This notebook loads the files generated from the log files, reports percentages, etc.\n",
    "\n",
    "## States Considered\n",
    "* **Query counts** are approximated by the first hit on a `QUERYSUGGESTIONS_GET` occurrence. \n",
    "\n",
    "## Data\n",
    "* `full_session` considered the entire search session, over all groups (individuals), over each topic."
   ]
  },
  {
   "cell_type": "code",
   "execution_count": 1,
   "metadata": {},
   "outputs": [],
   "source": [
    "import pandas as pd"
   ]
  },
  {
   "cell_type": "code",
   "execution_count": 108,
   "metadata": {},
   "outputs": [],
   "source": [
    "path_full_session = 'data/fullsession.csv'\n",
    "path_five_session = 'data/first5minutes.csv'\n",
    "path_second_five_session = 'data/second5minutes.csv'"
   ]
  },
  {
   "cell_type": "code",
   "execution_count": 109,
   "metadata": {},
   "outputs": [],
   "source": [
    "full_df = pd.read_csv(path_full_session)\n",
    "first5_df = pd.read_csv(path_five_session)\n",
    "second5_df = pd.read_csv(path_second_five_session)\n"
   ]
  },
  {
   "cell_type": "markdown",
   "metadata": {},
   "source": [
    "## Compute Raw Hover Percentages\n",
    "Computing this value by summing over all observations, then dividing by the total sum."
   ]
  },
  {
   "cell_type": "code",
   "execution_count": 110,
   "metadata": {},
   "outputs": [],
   "source": [
    "def compute_raw_percentages(totals_df, df, name):\n",
    "    \"\"\"\n",
    "    Adds the percentage columns to the given DataFrame for raw hover counts.\n",
    "    \"\"\"\n",
    "    df['raw_sum'] = df['raw_query'] + df['raw_results'] + df['raw_recent'] + df['raw_saved']\n",
    "    \n",
    "    totals_df = totals_df.append({'name': name,\n",
    "                                  'raw_sum': df['raw_sum'].sum(),\n",
    "                                  'raw_query_sum': df['raw_query'].sum(),\n",
    "                                  'raw_results_sum': df['raw_results'].sum(),\n",
    "                                  'raw_recent_sum': df['raw_recent'].sum(),\n",
    "                                  'raw_saved_sum': df['raw_saved'].sum(),\n",
    "                                  \n",
    "                                  'raw_query_percentage': df['raw_query'].sum() / df['raw_sum'].sum(),\n",
    "                                  'raw_results_percentage': df['raw_results'].sum() / df['raw_sum'].sum(),\n",
    "                                  'raw_recent_percentage': df['raw_recent'].sum() / df['raw_sum'].sum(),\n",
    "                                  'raw_saved_percentage': df['raw_saved'].sum() / df['raw_sum'].sum(),\n",
    "                                 },\n",
    "                                 ignore_index=True)\n",
    "    \n",
    "    return totals_df\n",
    "    \n",
    "totals_df = pd.DataFrame(columns=['name', 'raw_sum', 'raw_query_sum', 'raw_results_sum', 'raw_recent_sum', 'raw_saved_sum', 'raw_query_percentage', 'raw_results_percentage', 'raw_recent_percentage', 'raw_saved_percentage'])\n",
    "\n",
    "# For each dataset, work out the percentages by calling compute_raw_percentages()\n",
    "totals_df = compute_raw_percentages(totals_df, full_df, 'full')\n",
    "totals_df = compute_raw_percentages(totals_df, first5_df, 'first5')\n",
    "totals_df = compute_raw_percentages(totals_df, second5_df, 'second5')\n"
   ]
  },
  {
   "cell_type": "code",
   "execution_count": 111,
   "metadata": {},
   "outputs": [
    {
     "data": {
      "text/html": [
       "<div>\n",
       "<style scoped>\n",
       "    .dataframe tbody tr th:only-of-type {\n",
       "        vertical-align: middle;\n",
       "    }\n",
       "\n",
       "    .dataframe tbody tr th {\n",
       "        vertical-align: top;\n",
       "    }\n",
       "\n",
       "    .dataframe thead th {\n",
       "        text-align: right;\n",
       "    }\n",
       "</style>\n",
       "<table border=\"1\" class=\"dataframe\">\n",
       "  <thead>\n",
       "    <tr style=\"text-align: right;\">\n",
       "      <th></th>\n",
       "      <th>name</th>\n",
       "      <th>raw_sum</th>\n",
       "      <th>raw_query_percentage</th>\n",
       "      <th>raw_results_percentage</th>\n",
       "      <th>raw_recent_percentage</th>\n",
       "      <th>raw_saved_percentage</th>\n",
       "    </tr>\n",
       "  </thead>\n",
       "  <tbody>\n",
       "    <tr>\n",
       "      <th>0</th>\n",
       "      <td>full</td>\n",
       "      <td>3333</td>\n",
       "      <td>0.247225</td>\n",
       "      <td>0.448845</td>\n",
       "      <td>0.125713</td>\n",
       "      <td>0.178218</td>\n",
       "    </tr>\n",
       "    <tr>\n",
       "      <th>1</th>\n",
       "      <td>first5</td>\n",
       "      <td>654</td>\n",
       "      <td>0.366972</td>\n",
       "      <td>0.460245</td>\n",
       "      <td>0.084098</td>\n",
       "      <td>0.088685</td>\n",
       "    </tr>\n",
       "    <tr>\n",
       "      <th>2</th>\n",
       "      <td>second5</td>\n",
       "      <td>1246</td>\n",
       "      <td>0.244783</td>\n",
       "      <td>0.453451</td>\n",
       "      <td>0.142857</td>\n",
       "      <td>0.158909</td>\n",
       "    </tr>\n",
       "  </tbody>\n",
       "</table>\n",
       "</div>"
      ],
      "text/plain": [
       "      name raw_sum  raw_query_percentage  raw_results_percentage  \\\n",
       "0     full    3333              0.247225                0.448845   \n",
       "1   first5     654              0.366972                0.460245   \n",
       "2  second5    1246              0.244783                0.453451   \n",
       "\n",
       "   raw_recent_percentage  raw_saved_percentage  \n",
       "0               0.125713              0.178218  \n",
       "1               0.084098              0.088685  \n",
       "2               0.142857              0.158909  "
      ]
     },
     "execution_count": 111,
     "metadata": {},
     "output_type": "execute_result"
    }
   ],
   "source": [
    "# Drop the raw values, show only the percentages.\n",
    "percentages_df = totals_df.drop(columns=['raw_query_sum', 'raw_results_sum', 'raw_recent_sum', 'raw_saved_sum'])\n",
    "percentages_df"
   ]
  },
  {
   "cell_type": "markdown",
   "metadata": {},
   "source": [
    "## Output Raw Hover Percentages for each Dataset"
   ]
  },
  {
   "cell_type": "code",
   "execution_count": 26,
   "metadata": {},
   "outputs": [],
   "source": [
    "full = full_df[['raw_sum', 'raw_query_fraction', 'raw_results_fraction', 'raw_recent_fraction', 'raw_saved_fraction']]\n"
   ]
  }
 ],
 "metadata": {
  "kernelspec": {
   "display_name": "Python 3",
   "language": "python",
   "name": "python3"
  },
  "language_info": {
   "codemirror_mode": {
    "name": "ipython",
    "version": 3
   },
   "file_extension": ".py",
   "mimetype": "text/x-python",
   "name": "python",
   "nbconvert_exporter": "python",
   "pygments_lexer": "ipython3",
   "version": "3.7.7"
  }
 },
 "nbformat": 4,
 "nbformat_minor": 4
}
